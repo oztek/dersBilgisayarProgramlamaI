{
 "cells": [
  {
   "cell_type": "markdown",
   "metadata": {},
   "source": [
    "# Python Öğreniyoruz\n",
    "## Kurulumu\n",
    "https://www.anaconda.com/download/ adresinden Anaconda yazılımının işletim sistemimize uygun paketlerini Python 3 için yüklüyoruz.\n",
    "\n",
    "İlgili kurulum yapıldığında Aconda-Navigator yazılımı sayesinde Python'la programlaya Jupyter Notebook ile başlayacağız.\n",
    "\n",
    "## Kaynaklar\n",
    "Tabii ki pekçok kaynak kullanılabilir ama bence ilk etapta http://www.veridefteri.com/category/python-giris/ adresi bize bu macerada önderlik edecektir.\n",
    "\n"
   ]
  },
  {
   "cell_type": "markdown",
   "metadata": {},
   "source": [
    "## İlk Program \n"
   ]
  },
  {
   "cell_type": "code",
   "execution_count": 1,
   "metadata": {},
   "outputs": [
    {
     "name": "stdout",
     "output_type": "stream",
     "text": [
      "Merhaba Dünya\n"
     ]
    }
   ],
   "source": [
    "print(\"Merhaba Dünya\")"
   ]
  },
  {
   "cell_type": "markdown",
   "metadata": {},
   "source": [
    "Bu program için aslında söylenecenek bir şey yokmuş gibi gözüksede durum biraz farklı. Bir fonksiyon <code>print</code> ve bu fonksiyonun parametresinden <code>\"Merhaba Dünya\"</code>bahsetmek gerekiyor."
   ]
  },
  {
   "cell_type": "markdown",
   "metadata": {},
   "source": [
    "## Yuvarlama Hatası "
   ]
  },
  {
   "cell_type": "code",
   "execution_count": 3,
   "metadata": {},
   "outputs": [
    {
     "name": "stdout",
     "output_type": "stream",
     "text": [
      "-5.551115123125783e-17\n"
     ]
    }
   ],
   "source": [
    "from math import *\n",
    "a=cos(1.1)\n",
    "b=sin(1.1)\n",
    "z = a- (a/b)*b\n",
    "print (z)"
   ]
  },
  {
   "cell_type": "code",
   "execution_count": null,
   "metadata": {},
   "outputs": [],
   "source": []
  },
  {
   "cell_type": "code",
   "execution_count": null,
   "metadata": {},
   "outputs": [],
   "source": []
  }
 ],
 "metadata": {
  "kernelspec": {
   "display_name": "Python 3",
   "language": "python",
   "name": "python3"
  },
  "language_info": {
   "codemirror_mode": {
    "name": "ipython",
    "version": 3
   },
   "file_extension": ".py",
   "mimetype": "text/x-python",
   "name": "python",
   "nbconvert_exporter": "python",
   "pygments_lexer": "ipython3",
   "version": "3.7.0"
  }
 },
 "nbformat": 4,
 "nbformat_minor": 2
}
