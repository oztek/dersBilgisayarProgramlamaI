{
 "cells": [
  {
   "cell_type": "markdown",
   "metadata": {},
   "source": [
    "# Python Öğreniyoruz\n",
    "## Kurulumu\n",
    "https://www.anaconda.com/download/ adresinden Anaconda yazılımının işletim sistemimize uygun paketlerini Python 3 için yüklüyoruz.\n",
    "\n",
    "İlgili kurulum yapıldığında Aconda-Navigator yazılımı sayesinde Python'la programlaya Jupyter Notebook ile başlayacağız.\n",
    "\n",
    "## Kaynaklar\n",
    "Tabii ki pekçok kaynak kullanılabilir ama bence ilk etapta http://www.veridefteri.com/category/python-giris/ adresi bize bu macerada önderlik edecektir.\n",
    "\n"
   ]
  },
  {
   "cell_type": "markdown",
   "metadata": {},
   "source": [
    "## İlk Program \n"
   ]
  },
  {
   "cell_type": "code",
   "execution_count": 1,
   "metadata": {},
   "outputs": [
    {
     "name": "stdout",
     "output_type": "stream",
     "text": [
      "Merhaba Dünya\n"
     ]
    }
   ],
   "source": [
    "print(\"Merhaba Dünya\")"
   ]
  },
  {
   "cell_type": "markdown",
   "metadata": {},
   "source": [
    "Bu program için aslında söylenecenek bir şey yokmuş gibi gözüksede durum biraz farklı. Bir fonksiyon <code>print</code> ve bu fonksiyonun parametresinden <code>\"Merhaba Dünya\"</code>bahsetmek gerekiyor.\n",
    "# Değişken\n",
    "Bilgisayarın değiştireceği bilgileri yazdığı yere ulaşmaya yarıyan şey.\n",
    "Pek çok programlama dilinde değişkenler önce tanımlanır. Yani hangi türde bilgi tutacağı belirtilir. Sonrada bu değişkene hangi <code> isim </code>le erişileceği belirlenir. Python'da ise değişken atama yapılması yani değer verilmesi yeterlidir.\n",
    "Örneğin"
   ]
  },
  {
   "cell_type": "code",
   "execution_count": 9,
   "metadata": {},
   "outputs": [
    {
     "name": "stdout",
     "output_type": "stream",
     "text": [
      "5\n",
      "Merhaba Dünya\n"
     ]
    }
   ],
   "source": [
    "a = 5 #a isimli değişken tanımlanıp içine 5 değeri atanıyor.\n",
    "print(a) #a isimli değişkenin taşadığı değere ekrana yazdırılıyor.\n",
    "b = \"Merhaba Dünya\" #b isimli değişkene Merhaba Dünya string i atanıyor.\n",
    "print(b) #b isimli değişkenin değeri ekrana yazdırılıyor."
   ]
  },
  {
   "cell_type": "markdown",
   "metadata": {},
   "source": [
    "Pek tabii ki bu iki değişken çok farklı tiplerde."
   ]
  },
  {
   "cell_type": "code",
   "execution_count": 7,
   "metadata": {},
   "outputs": [
    {
     "data": {
      "text/plain": [
       "(int, str)"
      ]
     },
     "execution_count": 7,
     "metadata": {},
     "output_type": "execute_result"
    }
   ],
   "source": [
    "type(a), type(b)"
   ]
  },
  {
   "cell_type": "markdown",
   "metadata": {},
   "source": [
    "**int** tamsayılar, **str** ise string yani kelime/kelime grupları için kullanılır."
   ]
  },
  {
   "cell_type": "code",
   "execution_count": null,
   "metadata": {},
   "outputs": [],
   "source": []
  }
 ],
 "metadata": {
  "kernelspec": {
   "display_name": "Python 3",
   "language": "python",
   "name": "python3"
  },
  "language_info": {
   "codemirror_mode": {
    "name": "ipython",
    "version": 3
   },
   "file_extension": ".py",
   "mimetype": "text/x-python",
   "name": "python",
   "nbconvert_exporter": "python",
   "pygments_lexer": "ipython3",
   "version": "3.7.0"
  }
 },
 "nbformat": 4,
 "nbformat_minor": 2
}
